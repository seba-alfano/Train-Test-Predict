{
  "nbformat": 4,
  "nbformat_minor": 0,
  "metadata": {
    "colab": {
      "name": "Proyecto 4.ipynb",
      "provenance": [],
      "collapsed_sections": []
    },
    "kernelspec": {
      "display_name": "Python 3",
      "language": "python",
      "name": "python3"
    },
    "language_info": {
      "codemirror_mode": {
        "name": "ipython",
        "version": 3
      },
      "file_extension": ".py",
      "mimetype": "text/x-python",
      "name": "python",
      "nbconvert_exporter": "python",
      "pygments_lexer": "ipython3",
      "version": "3.9.7"
    }
  },
  "cells": [
    {
      "cell_type": "markdown",
      "metadata": {
        "id": "26qb0UBXAwer"
      },
      "source": [
        "*Alfano Sebastián - Julian Swerdlin*"
      ]
    },
    {
      "cell_type": "markdown",
      "metadata": {
        "id": "XkQVidkYNB1P"
      },
      "source": [
        "# Cuarto Proyecto: Entrenamiento y prueba de modelos\n",
        " "
      ]
    },
    {
      "cell_type": "code",
      "metadata": {
        "colab": {
          "resources": {
            "http://localhost:8080/nbextensions/google.colab/files.js": {
              "data": "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",
              "ok": true,
              "headers": [
                [
                  "content-type",
                  "application/javascript"
                ]
              ],
              "status": 200,
              "status_text": ""
            }
          },
          "base_uri": "https://localhost:8080/",
          "height": 55
        },
        "id": "zvRbU6wM3Kuu",
        "outputId": "6590880a-e04f-46f7-a363-45027bca78f6"
      },
      "source": [
        "#Subimos el dataset\n",
        "from google.colab import files\n",
        "SubirArchivo = files.upload()"
      ],
      "execution_count": 119,
      "outputs": [
        {
          "output_type": "display_data",
          "data": {
            "text/html": [
              "\n",
              "     <input type=\"file\" id=\"files-5dad14e6-629d-460f-b29d-7124a31608e7\" name=\"files[]\" multiple disabled\n",
              "        style=\"border:none\" />\n",
              "     <output id=\"result-5dad14e6-629d-460f-b29d-7124a31608e7\">\n",
              "      Upload widget is only available when the cell has been executed in the\n",
              "      current browser session. Please rerun this cell to enable.\n",
              "      </output>\n",
              "      <script src=\"/nbextensions/google.colab/files.js\"></script> "
            ],
            "text/plain": [
              "<IPython.core.display.HTML object>"
            ]
          },
          "metadata": {}
        },
        {
          "output_type": "stream",
          "name": "stdout",
          "text": [
            "Saving Social_Network_Ads.csv to Social_Network_Ads (1).csv\n"
          ]
        }
      ]
    },
    {
      "cell_type": "code",
      "metadata": {
        "id": "3GLnb6683T2T"
      },
      "source": [
        "#Cargamos la libreria de pandas que es muy util porque agrega muchas funciones\n",
        "import pandas as pd\n",
        "\n",
        "#Cargamos una variable que contenga el archivo que acabamos de subir\n",
        "Ad = pd.read_csv(\"Social_Network_Ads.csv\")"
      ],
      "execution_count": 120,
      "outputs": []
    },
    {
      "cell_type": "code",
      "metadata": {
        "id": "c_8RPj923aBL"
      },
      "source": [
        "#Como el Genero en este DataSet esta representado por letras(String) lo tenemos que pasar a dummy(0, 1)\n",
        "Genero_binario = pd.get_dummies(Ad[\"Gender\"], drop_first=True)\n",
        "\n",
        "#Ahora la columna Gender va a ser igual a la nueva variable que creamos con el genero en 1 y 0.\n",
        "Ad[\"Gender\"] = Genero_binario\n",
        "\n",
        "#Ahora dejamos solo estas cuatro variables y en este orden\n",
        "Ad_Nuevo = Ad.drop(columns= \"User ID\")\n"
      ],
      "execution_count": 122,
      "outputs": []
    },
    {
      "cell_type": "markdown",
      "metadata": {
        "id": "9BA2Kzjh-iD-"
      },
      "source": [
        "Comparamos la tabla anterior con la nueva y observamos que ya no tenemos la columna de User ID y que 1 es Male (Hombre) y 0 es Female (Mujer)."
      ]
    },
    {
      "cell_type": "markdown",
      "metadata": {
        "id": "zLK1r8lUiMiz"
      },
      "source": [
        "# Separación de entrenamiento y validación\n",
        " \n",
        "Este paso es vital para probar el modelo. También debes de recordar, que en el caso de que quieras crear alguna variable extra o transformación al conjunto de datos (PCA por ejemplo) a usar en el entrenamiento, debes de hacer todos los cálculos sólo con el conjunto de entrenamiento, por lo que es probable que debas regresar al análisis exploratorio una vez realizada la división. Estos pasos los explicamos de una forma lineal, pero realmente los proyectos reales son iterativos y tienen mucho de ir y venir."
      ]
    },
    {
      "cell_type": "markdown",
      "metadata": {
        "id": "-XfPBf50jbeS"
      },
      "source": [
        "**Añade cualquier comentario sobre la separación aquí, por ejemplo ¿Qué porcentaje dejas en validación y porque?**"
      ]
    },
    {
      "cell_type": "code",
      "metadata": {
        "id": "nwEfCq9cjaj-"
      },
      "source": [
        "#Cargamos la libreria que nos permite generar datos de testeo y entrenamiento de manera aleatoria\n",
        "from sklearn.model_selection import train_test_split"
      ],
      "execution_count": 123,
      "outputs": []
    },
    {
      "cell_type": "code",
      "metadata": {
        "id": "7OTQthhl3uKs"
      },
      "source": [
        "#Asignamos en X lo que vamos a usar para predecir\n",
        "x = Ad_Nuevo[[\"Age\",\"EstimatedSalary\",\"Gender\"]]\n",
        "#Asignamos en Y lo que vamos a predecir\n",
        "y = Ad_Nuevo[\"Purchased\"]\n",
        "#Separamos los datos en testeo y entrenamiento\n",
        "train, test = train_test_split(Ad_Nuevo, random_state=0)"
      ],
      "execution_count": 124,
      "outputs": []
    },
    {
      "cell_type": "markdown",
      "metadata": {
        "id": "PZafosc_3w9C"
      },
      "source": [
        "La separación entre entrenamiento y validación lo damos de manera aleatoria, es decir, usamos la funcion de **sklearn** *train_test_split*, que nos separa los datos de manera tal que deja el 75% a entrenamiento y el 25% restante a validacion."
      ]
    },
    {
      "cell_type": "code",
      "metadata": {
        "colab": {
          "base_uri": "https://localhost:8080/"
        },
        "id": "66HJy_fO5VFa",
        "outputId": "60f8f2c0-03f8-4bc4-a850-b9318f0f5d6f"
      },
      "source": [
        "print(\"Cantidad total de datos:\", Ad_Nuevo.shape)\n",
        "print(\"Cantidad de datos en Entrenamiento:\", train.shape)\n",
        "print(\"Cantidad de datos en Validación:\", test.shape)"
      ],
      "execution_count": 125,
      "outputs": [
        {
          "output_type": "stream",
          "name": "stdout",
          "text": [
            "Cantidad total de datos: (400, 4)\n",
            "Cantidad de datos en Entrenamiento: (300, 4)\n",
            "Cantidad de datos en Validación: (100, 4)\n"
          ]
        }
      ]
    },
    {
      "cell_type": "code",
      "metadata": {
        "id": "CgPO9CEu7IEF"
      },
      "source": [
        "#Ahora lo separamos entre X e Y\n",
        "x_train, x_test, y_train, y_test = train_test_split(x, y, random_state=1)"
      ],
      "execution_count": 126,
      "outputs": []
    },
    {
      "cell_type": "markdown",
      "metadata": {
        "id": "I9hA8OdsjuM8"
      },
      "source": [
        "# Entrenamiento\n",
        "\n",
        "Llegó el momento del entrenamiento, eres libre de elegir los modelos que quieras usar, te recomendamos entrenar varios modelos y usar diferentes hiper parámetros dentro de cada uno. Finalmente comenta sobre los tiempos de entrenamiento de cada modelo y el rendimiento de los mismos utilizando el mismo conjunto de entrenamiento. ¿Hay señales de sobre ajuste en alguno de ellos?"
      ]
    },
    {
      "cell_type": "markdown",
      "metadata": {
        "id": "iJSio4hWkWHd"
      },
      "source": [
        "**Realiza comentarios sobre los modelos escogidos ¿porque escogiste esos modelos?**"
      ]
    },
    {
      "cell_type": "markdown",
      "metadata": {
        "id": "_7u94zvSsRYL"
      },
      "source": [
        "### **GridSearchCV y RandomForestClassifier**"
      ]
    },
    {
      "cell_type": "markdown",
      "metadata": {
        "id": "VS3pV6YAsdZu"
      },
      "source": [
        "**Grid Search Cross Validation:**\n",
        "Lo que hace esta funcion es ir agarrando distintas partes de los datos y por bloques de un mismo tamaño los separa en datos de entrenamiento.Tambien prueba con los distintos parametros que nosotros asignamos. Con esta funcion se puede probar con cual aprendio mejor.\n",
        "\n",
        "**Random Forest Classifier:**\n",
        "Es una funcion de prediccion que separa en arboles de decision individuales y de todos esos se utiliza el mejor."
      ]
    },
    {
      "cell_type": "code",
      "metadata": {
        "id": "qBtpp1Sjkh7N"
      },
      "source": [
        "#Cargamos el modelo de Cross Validation\n",
        "from sklearn.model_selection import GridSearchCV\n",
        "#Cargamos el modelo de RandomForestClassifier\n",
        "from sklearn.ensemble import RandomForestClassifier"
      ],
      "execution_count": 127,
      "outputs": []
    },
    {
      "cell_type": "code",
      "metadata": {
        "id": "oCSuvJFz7qi8"
      },
      "source": [
        "#Asignamos los hiperparametros en el RandomForest para probar cual es mejor\n",
        "hiperparam = {\"n_estimators\":[1,2,4,8,15,30,50,80,100], \"max_depth\":[1,2,3,4], \"max_features\":[1,2,3], \"bootstrap\":[True, False]}"
      ],
      "execution_count": 128,
      "outputs": []
    },
    {
      "cell_type": "code",
      "metadata": {
        "id": "1GMZ-KxF7sHd"
      },
      "source": [
        "#Cargamos el modelo con la variable random_forest\n",
        "random_forest = RandomForestClassifier()"
      ],
      "execution_count": 129,
      "outputs": []
    },
    {
      "cell_type": "code",
      "metadata": {
        "id": "u4W3haBg7tBI"
      },
      "source": [
        "#Creamos una variable en donde guardamos de a cuantos numeros va a hacer el CrossValidation, en este caso 5\n",
        "grid = GridSearchCV(estimator=random_forest, param_grid=hiperparam, cv=5)"
      ],
      "execution_count": 130,
      "outputs": []
    },
    {
      "cell_type": "code",
      "metadata": {
        "colab": {
          "base_uri": "https://localhost:8080/"
        },
        "id": "7CvPsWjx7udD",
        "outputId": "ffb69559-fe69-465b-f24c-626f313b5ec8"
      },
      "source": [
        "%%time\n",
        "#Entrenamos el modelo\n",
        "grid.fit(x_train, y_train)"
      ],
      "execution_count": 131,
      "outputs": [
        {
          "output_type": "stream",
          "name": "stdout",
          "text": [
            "CPU times: user 47.4 s, sys: 336 ms, total: 47.8 s\n",
            "Wall time: 47.7 s\n"
          ]
        },
        {
          "output_type": "execute_result",
          "data": {
            "text/plain": [
              "GridSearchCV(cv=5, error_score=nan,\n",
              "             estimator=RandomForestClassifier(bootstrap=True, ccp_alpha=0.0,\n",
              "                                              class_weight=None,\n",
              "                                              criterion='gini', max_depth=None,\n",
              "                                              max_features='auto',\n",
              "                                              max_leaf_nodes=None,\n",
              "                                              max_samples=None,\n",
              "                                              min_impurity_decrease=0.0,\n",
              "                                              min_impurity_split=None,\n",
              "                                              min_samples_leaf=1,\n",
              "                                              min_samples_split=2,\n",
              "                                              min_weight_fraction_leaf=0.0,\n",
              "                                              n_estimators=100, n_jobs=None,\n",
              "                                              oob_score=False,\n",
              "                                              random_state=None, verbose=0,\n",
              "                                              warm_start=False),\n",
              "             iid='deprecated', n_jobs=None,\n",
              "             param_grid={'bootstrap': [True, False], 'max_depth': [1, 2, 3, 4],\n",
              "                         'max_features': [1, 2, 3],\n",
              "                         'n_estimators': [1, 2, 4, 8, 15, 30, 50, 80, 100]},\n",
              "             pre_dispatch='2*n_jobs', refit=True, return_train_score=False,\n",
              "             scoring=None, verbose=0)"
            ]
          },
          "metadata": {},
          "execution_count": 131
        }
      ]
    },
    {
      "cell_type": "code",
      "metadata": {
        "colab": {
          "base_uri": "https://localhost:8080/"
        },
        "id": "ufIwramT7wUx",
        "outputId": "f27ced8f-0699-454a-ac05-e5bc4d7a6325"
      },
      "source": [
        "#Pedimos que nos muestre los mejores parametros para ver cuales escogio\n",
        "grid.best_params_"
      ],
      "execution_count": 132,
      "outputs": [
        {
          "output_type": "execute_result",
          "data": {
            "text/plain": [
              "{'bootstrap': True, 'max_depth': 2, 'max_features': 3, 'n_estimators': 8}"
            ]
          },
          "metadata": {},
          "execution_count": 132
        }
      ]
    },
    {
      "cell_type": "markdown",
      "metadata": {
        "id": "nmJL_kfmstcp"
      },
      "source": [
        "### **K-Nearest Neighbors**"
      ]
    },
    {
      "cell_type": "markdown",
      "metadata": {
        "id": "Ahe4HUusvJCW"
      },
      "source": [
        "**KNN:** Este modelo clasifica a un nuevo dato en un grupo dependiendo la cantidad de vecinos del mismo grupo que haya, es decir, si el nuevo dato ingresado esta cerca de muchos otros de un mismo grupo, lo calsificara dentro de ese mismo."
      ]
    },
    {
      "cell_type": "code",
      "metadata": {
        "id": "5JJKgu-BwNKV"
      },
      "source": [
        "#Importamos el modelo de KNN\n",
        "from sklearn.neighbors import KNeighborsClassifier\n",
        "\n",
        "#Asignamos que cuando identifique tan solo 5 vecinos lo clasifique\n",
        "knn = KNeighborsClassifier(3)"
      ],
      "execution_count": 133,
      "outputs": []
    },
    {
      "cell_type": "code",
      "metadata": {
        "colab": {
          "base_uri": "https://localhost:8080/"
        },
        "id": "78ElyDoS3bYH",
        "outputId": "29ab8e19-cea7-4336-a007-b61634d5d2c5"
      },
      "source": [
        "%%time\n",
        "#Lo entrenamos\n",
        "knn.fit(x_train, y_train)"
      ],
      "execution_count": 134,
      "outputs": [
        {
          "output_type": "stream",
          "name": "stdout",
          "text": [
            "CPU times: user 2.25 ms, sys: 7 µs, total: 2.26 ms\n",
            "Wall time: 2.14 ms\n"
          ]
        },
        {
          "output_type": "execute_result",
          "data": {
            "text/plain": [
              "KNeighborsClassifier(algorithm='auto', leaf_size=30, metric='minkowski',\n",
              "                     metric_params=None, n_jobs=None, n_neighbors=3, p=2,\n",
              "                     weights='uniform')"
            ]
          },
          "metadata": {},
          "execution_count": 134
        }
      ]
    },
    {
      "cell_type": "markdown",
      "metadata": {
        "id": "PoJg99qH1llp"
      },
      "source": [
        "###**Logistic Regression**"
      ]
    },
    {
      "cell_type": "markdown",
      "metadata": {
        "id": "WUMKGJ6O2Dn_"
      },
      "source": [
        "**Regresion Logistica:** Lo que hace este modelo es buscar una relacion entre las variables y ver de que grupo es mas probable que sea segun ese vinculo para clasificarlo."
      ]
    },
    {
      "cell_type": "code",
      "metadata": {
        "id": "u6RwrUKd2hab"
      },
      "source": [
        "#Importamos el modelo de Logistica Regression\n",
        "from sklearn.linear_model import LogisticRegression"
      ],
      "execution_count": 135,
      "outputs": []
    },
    {
      "cell_type": "code",
      "metadata": {
        "colab": {
          "base_uri": "https://localhost:8080/"
        },
        "id": "I9cqyT8I3d6c",
        "outputId": "1501f684-f281-4f7c-b139-db788d91881b"
      },
      "source": [
        "%%time\n",
        "#Lo entrenamos\n",
        "LR = LogisticRegression()\n",
        "\n",
        "LR.fit(x_train, y_train)"
      ],
      "execution_count": 136,
      "outputs": [
        {
          "output_type": "stream",
          "name": "stdout",
          "text": [
            "CPU times: user 11.7 ms, sys: 0 ns, total: 11.7 ms\n",
            "Wall time: 14.9 ms\n"
          ]
        }
      ]
    },
    {
      "cell_type": "markdown",
      "metadata": {
        "id": "2LYIF8-9lthO"
      },
      "source": [
        "# Prueba y evaluación\n",
        " \n",
        "Una vez que se tienen entrenados los modelos es hora de probarlos usando el conjunto de validación, es muy importante seleccionar la métrica a evaluar para tomar la decisión de cuál es el mejor modelo antes de calcularlas. Esto es para evitar sesgos personales sobre el desempeño de los diferentes modelos. "
      ]
    },
    {
      "cell_type": "markdown",
      "metadata": {
        "id": "77zCnreO4Cge"
      },
      "source": [
        "### **GridSearchCV y RandomForestClassifier**"
      ]
    },
    {
      "cell_type": "markdown",
      "metadata": {
        "id": "K0eM8fXh4McI"
      },
      "source": [
        "Entrenamiento"
      ]
    },
    {
      "cell_type": "code",
      "metadata": {
        "colab": {
          "base_uri": "https://localhost:8080/"
        },
        "id": "y4l1vRQi4I6T",
        "outputId": "ed6262e7-3183-41a0-c87c-0dc1e9574c2c"
      },
      "source": [
        "#Le pedimos que nos diga cual fue el mejor resultado con los mejores parametros en entrenamiento\n",
        "grid.best_estimator_.score(x_train, y_train)"
      ],
      "execution_count": 137,
      "outputs": [
        {
          "output_type": "execute_result",
          "data": {
            "text/plain": [
              "0.93"
            ]
          },
          "metadata": {},
          "execution_count": 137
        }
      ]
    },
    {
      "cell_type": "markdown",
      "metadata": {
        "id": "9kQ7hsGi4NwV"
      },
      "source": [
        "Validación"
      ]
    },
    {
      "cell_type": "code",
      "metadata": {
        "colab": {
          "base_uri": "https://localhost:8080/"
        },
        "id": "I0WYepMS4L7V",
        "outputId": "8beda723-dbb6-44f4-d8fc-8500501b8e18"
      },
      "source": [
        "#Le pedimos que nos diga cual fue el mejor resultado con los mejores parametros en testeo\n",
        "grid.best_estimator_.score(x_test, y_test)"
      ],
      "execution_count": 138,
      "outputs": [
        {
          "output_type": "execute_result",
          "data": {
            "text/plain": [
              "0.87"
            ]
          },
          "metadata": {},
          "execution_count": 138
        }
      ]
    },
    {
      "cell_type": "markdown",
      "metadata": {
        "id": "l3yo8mWQ3_7r"
      },
      "source": [
        "### **K-Nearest Neighbors**"
      ]
    },
    {
      "cell_type": "markdown",
      "metadata": {
        "id": "EyIOpXOc4So8"
      },
      "source": [
        "Entrenamiento"
      ]
    },
    {
      "cell_type": "code",
      "metadata": {
        "colab": {
          "base_uri": "https://localhost:8080/"
        },
        "id": "Xz_Unx1F4R4R",
        "outputId": "f8177239-111d-4818-f5d1-30c2f676f6a1"
      },
      "source": [
        "#Entrenamos el modelo con la variable knn\n",
        "knn.score(x_train, y_train)"
      ],
      "execution_count": 139,
      "outputs": [
        {
          "output_type": "execute_result",
          "data": {
            "text/plain": [
              "0.9133333333333333"
            ]
          },
          "metadata": {},
          "execution_count": 139
        }
      ]
    },
    {
      "cell_type": "markdown",
      "metadata": {
        "id": "BBE7seBm4Uvx"
      },
      "source": [
        "Validación"
      ]
    },
    {
      "cell_type": "code",
      "metadata": {
        "colab": {
          "base_uri": "https://localhost:8080/"
        },
        "id": "tSCkqRZD4V0w",
        "outputId": "611064a8-705c-496c-eb71-55e9a0afadbe"
      },
      "source": [
        "#Testeamos el modelo con la variable knn\n",
        "knn.score(x_test, y_test)"
      ],
      "execution_count": 140,
      "outputs": [
        {
          "output_type": "execute_result",
          "data": {
            "text/plain": [
              "0.76"
            ]
          },
          "metadata": {},
          "execution_count": 140
        }
      ]
    },
    {
      "cell_type": "markdown",
      "metadata": {
        "id": "--DVBMmk37BZ"
      },
      "source": [
        "###**Logistic Regression**"
      ]
    },
    {
      "cell_type": "markdown",
      "metadata": {
        "id": "c6S-b_Ao5E0W"
      },
      "source": [
        "Entrenamiento"
      ]
    },
    {
      "cell_type": "code",
      "metadata": {
        "colab": {
          "base_uri": "https://localhost:8080/"
        },
        "id": "r-BtBhiX4omv",
        "outputId": "ab6d5aa5-02c2-41b2-a557-3807d529b284"
      },
      "source": [
        "#Entrenamos\n",
        "LR.score(x_train, y_train)"
      ],
      "execution_count": 141,
      "outputs": [
        {
          "output_type": "execute_result",
          "data": {
            "text/plain": [
              "0.6766666666666666"
            ]
          },
          "metadata": {},
          "execution_count": 141
        }
      ]
    },
    {
      "cell_type": "markdown",
      "metadata": {
        "id": "23h2PKEe5Fwi"
      },
      "source": [
        "Validación"
      ]
    },
    {
      "cell_type": "code",
      "metadata": {
        "id": "DRN7tM4f5Ab9",
        "colab": {
          "base_uri": "https://localhost:8080/"
        },
        "outputId": "24acbc4b-df1c-45d4-ca92-37322f742f31"
      },
      "source": [
        "#Testeamos\n",
        "LR.score(x_test, y_test)"
      ],
      "execution_count": 142,
      "outputs": [
        {
          "output_type": "execute_result",
          "data": {
            "text/plain": [
              "0.56"
            ]
          },
          "metadata": {},
          "execution_count": 142
        }
      ]
    },
    {
      "cell_type": "markdown",
      "metadata": {
        "id": "veJ9lCBi5Orc"
      },
      "source": [
        "##Graficos comparativos"
      ]
    },
    {
      "cell_type": "code",
      "metadata": {
        "id": "8O7Jej105049"
      },
      "source": [
        "#Importamos la librearia para hacer los graficos\n",
        "import seaborn as sns\n",
        "\n",
        "#Creamos un dataset con nuestros resultados\n",
        "RFC = [\"Random Forest\", grid.best_estimator_.score(x_train, y_train), grid.best_estimator_.score(x_test, y_test)]\n",
        "KN = [\"K-Nearest Neighbors\", knn.score(x_train, y_train), knn.score(x_test, y_test)]\n",
        "LRs = [\"Logistic Regression\", LR.score(x_train, y_train), LR.score(x_test, y_test)]\n",
        "\n",
        "lista = [RFC, KN, LRs]\n",
        "\n",
        "modelosDF = pd.DataFrame(lista, columns=[\"Nombre\", \"Entrenamiento\", \"Testeo\"])"
      ],
      "execution_count": 143,
      "outputs": []
    },
    {
      "cell_type": "markdown",
      "metadata": {
        "id": "Ujfgm64vAizN"
      },
      "source": [
        "Score-Entrenamiento"
      ]
    },
    {
      "cell_type": "code",
      "metadata": {
        "colab": {
          "base_uri": "https://localhost:8080/",
          "height": 296
        },
        "id": "3oS9hDCS_mX_",
        "outputId": "9193bf31-3ce6-44b1-b82b-6b53bbf47437"
      },
      "source": [
        "sns.barplot(data = modelosDF, x = \"Nombre\", y = \"Entrenamiento\")"
      ],
      "execution_count": 150,
      "outputs": [
        {
          "output_type": "execute_result",
          "data": {
            "text/plain": [
              "<matplotlib.axes._subplots.AxesSubplot at 0x7f79904415d0>"
            ]
          },
          "metadata": {},
          "execution_count": 150
        },
        {
          "output_type": "display_data",
          "data": {
            "image/png": "[encoded data removed]",
            "text/plain": [
              "<Figure size 432x288 with 1 Axes>"
            ]
          },
          "metadata": {
            "needs_background": "light"
          }
        }
      ]
    },
    {
      "cell_type": "markdown",
      "metadata": {
        "id": "w3DmolywAjX8"
      },
      "source": [
        "Score-Testeo"
      ]
    },
    {
      "cell_type": "code",
      "metadata": {
        "colab": {
          "base_uri": "https://localhost:8080/",
          "height": 296
        },
        "id": "3C9PGiomAD0g",
        "outputId": "f72d131e-fb37-487b-f40f-9bc32259140d"
      },
      "source": [
        "sns.barplot(data = modelosDF, x = \"Nombre\", y = \"Testeo\")"
      ],
      "execution_count": 151,
      "outputs": [
        {
          "output_type": "execute_result",
          "data": {
            "text/plain": [
              "<matplotlib.axes._subplots.AxesSubplot at 0x7f798ffbc2d0>"
            ]
          },
          "metadata": {},
          "execution_count": 151
        },
        {
          "output_type": "display_data",
          "data": {
            "image/png": "[encoded data removed]",
            "text/plain": [
              "<Figure size 432x288 with 1 Axes>"
            ]
          },
          "metadata": {
            "needs_background": "light"
          }
        }
      ]
    },
    {
      "cell_type": "markdown",
      "metadata": {
        "id": "Qz9s3byhmv0S"
      },
      "source": [
        "# Presentación de resultados\n",
        " \n",
        "El proyecto finaliza al presentar las conclusiones y resultados, documenta todo lo descubierto durante el proyecto, desde la generación de la pregunta a resolver, pasando por aquellas características que descubriste en el análisis exploratorio hasta la respuesta en sí de la pregunta planteada. En esta etapa, no solo es válido, sino que se motiva el uso de gráficos y, además, es de un valor importante poder explicar lo que se hizo y lo que se descubrió de una forma que la persona que lo lea entienda sin importar si conoce algo de ciencia de datos o no. "
      ]
    },
    {
      "cell_type": "code",
      "metadata": {
        "id": "YCGGXBHv8-iY"
      },
      "source": [
        "# Es recomendable usar gráficos en esta parte, no importa si algunos son repetidos. "
      ],
      "execution_count": null,
      "outputs": []
    },
    {
      "cell_type": "markdown",
      "metadata": {
        "id": "Onlaeg2oAtV0"
      },
      "source": [
        "### RandomForest"
      ]
    },
    {
      "cell_type": "code",
      "metadata": {
        "colab": {
          "base_uri": "https://localhost:8080/"
        },
        "id": "869da0Az8otk",
        "outputId": "d05de1d9-6eb7-4b99-dc75-6f1bfda8b80e"
      },
      "source": [
        "#Realizamos una prediccion de una mujer de 40 años con un salario de 100 mil\n",
        "print(\"Mujer:\", grid.best_estimator_.predict([[40, 100000, 0]]))\n",
        "print(\"Hombre:\", grid.best_estimator_.predict([[40, 100000, 1]]))"
      ],
      "execution_count": null,
      "outputs": [
        {
          "output_type": "stream",
          "name": "stdout",
          "text": [
            "Mujer: [1]\n",
            "Hombre: [1]\n"
          ]
        }
      ]
    },
    {
      "cell_type": "markdown",
      "metadata": {
        "id": "dLzqERNi_4ti"
      },
      "source": [
        "*Efectivamente en este modelo las personas con un alto salario y alta edad compran luego de ver la publicidad*"
      ]
    },
    {
      "cell_type": "markdown",
      "metadata": {
        "id": "p2-XRvONA3ro"
      },
      "source": [
        "### KNN"
      ]
    },
    {
      "cell_type": "code",
      "metadata": {
        "colab": {
          "base_uri": "https://localhost:8080/"
        },
        "id": "YAdqu5GMA-12",
        "outputId": "b606a87d-15fc-48cf-f95c-6eece8438cb6"
      },
      "source": [
        "#Realizamos una prediccion de una mujer de 40 años con un salario de 100 mil\n",
        "print(\"Mujer:\", knn.predict([[40, 100000, 0]]))\n",
        "print(\"Hombre:\", knn.predict([[40, 100000, 1]]))"
      ],
      "execution_count": 152,
      "outputs": [
        {
          "output_type": "stream",
          "name": "stdout",
          "text": [
            "Mujer: [1]\n",
            "Hombre: [1]\n"
          ]
        }
      ]
    },
    {
      "cell_type": "markdown",
      "metadata": {
        "id": "dGNLmz3eBI8C"
      },
      "source": [
        "*Efectivamente en este modelo las personas con un alto salario y alta edad compran luego de ver la publicidad*"
      ]
    },
    {
      "cell_type": "markdown",
      "metadata": {
        "id": "kGaXkmPzBNkt"
      },
      "source": [
        "### Regresion Logistica"
      ]
    },
    {
      "cell_type": "code",
      "metadata": {
        "colab": {
          "base_uri": "https://localhost:8080/"
        },
        "id": "NIUxX-iwBQeg",
        "outputId": "964c72b6-cd0e-4cfd-c5e2-0dda141de34f"
      },
      "source": [
        "#Realizamos una prediccion de una mujer de 40 años con un salario de 100 mil\n",
        "print(\"Mujer:\", LR.predict([[40, 100000, 0]]))\n",
        "print(\"Hombre:\", LR.predict([[40, 100000, 1]]))"
      ],
      "execution_count": 153,
      "outputs": [
        {
          "output_type": "stream",
          "name": "stdout",
          "text": [
            "Mujer: [0]\n",
            "Hombre: [0]\n"
          ]
        }
      ]
    },
    {
      "cell_type": "markdown",
      "metadata": {
        "id": "IBxjPVb4BWpo"
      },
      "source": [
        "*En este modelo las personas con un alto salario y alta edad no compran luego de ver la publicidad, debido a que es el que peor funciona*"
      ]
    },
    {
      "cell_type": "code",
      "metadata": {
        "id": "jE7RyGBICcNU"
      },
      "source": [
        "#Creamos un dataset con nuestros resultados\n",
        "prediccion = [LR.predict([[40, 100000, 0]]), LR.predict([[40, 100000, 1]]), knn.predict([[40, 100000, 1]]), knn.predict([[40, 100000, 0]]), grid.best_estimator_.predict([[40, 100000, 1]]), grid.best_estimator_.predict([[40, 100000, 0]])]\n",
        "\n",
        "pred_DF = pd.DataFrame(prediccion, columns=[\"Prediccion\"])"
      ],
      "execution_count": 158,
      "outputs": []
    },
    {
      "cell_type": "code",
      "metadata": {
        "colab": {
          "base_uri": "https://localhost:8080/",
          "height": 296
        },
        "id": "TTfVE5WFDXPn",
        "outputId": "741b0df4-d528-473b-f259-39346e2765d2"
      },
      "source": [
        "#Ejecutamos un grafico que nos muestre la cantidad que compraron y las que no segun los modelos\n",
        "sns.countplot(data = pred_DF, x = \"Prediccion\")"
      ],
      "execution_count": 162,
      "outputs": [
        {
          "output_type": "execute_result",
          "data": {
            "text/plain": [
              "<matplotlib.axes._subplots.AxesSubplot at 0x7f798fe73a50>"
            ]
          },
          "metadata": {},
          "execution_count": 162
        },
        {
          "output_type": "display_data",
          "data": {
            "image/png": "[encoded data removed]",
            "text/plain": [
              "<Figure size 432x288 with 1 Axes>"
            ]
          },
          "metadata": {
            "needs_background": "light"
          }
        }
      ]
    },
    {
      "cell_type": "markdown",
      "metadata": {
        "id": "ZW8-lFQwBcQ8"
      },
      "source": [
        "## **Conclusiones**"
      ]
    },
    {
      "cell_type": "markdown",
      "metadata": {
        "id": "v1NL86E_BgYk"
      },
      "source": [
        "A lo largo del proyecto, lo que llegamos a concluir es que nuestra hipotesis inicial era correcta, ya que, de acuerdo a nuestros dos mejores modelos predictivos, cuanto mayor sea la edad y el salario, las personas tienden a comprar más luego de ver un anuncio."
      ]
    }
  ]
}